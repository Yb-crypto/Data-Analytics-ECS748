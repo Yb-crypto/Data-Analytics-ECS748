{
 "cells": [
  {
   "cell_type": "code",
   "execution_count": 1,
   "metadata": {},
   "outputs": [],
   "source": [
    "import pandas as pd\n",
    "import numpy as np\n",
    "\n",
    "from sklearn import model_selection\n",
    "from sklearn.model_selection import train_test_split\n",
    "from sklearn.ensemble.forest import RandomForestClassifier\n",
    "from sklearn.model_selection import cross_val_score\n",
    "from sklearn.metrics import classification_report, confusion_matrix\n",
    "\n",
    "import matplotlib.pyplot as plt\n",
    "import seaborn as sns\n",
    "%matplotlib inline"
   ]
  },
  {
   "cell_type": "code",
   "execution_count": 2,
   "metadata": {},
   "outputs": [
    {
     "data": {
      "text/plain": [
       "'C:\\\\Users\\\\Hanya\\\\Downloads'"
      ]
     },
     "execution_count": 2,
     "metadata": {},
     "output_type": "execute_result"
    }
   ],
   "source": [
    "pwd"
   ]
  },
  {
   "cell_type": "code",
   "execution_count": 5,
   "metadata": {},
   "outputs": [],
   "source": [
    "#import dataset\n",
    "train = pd.read_csv('C:\\\\Users\\\\Ynes\\\\Downloads\\stroke_train.csv')"
   ]
  },
  {
   "cell_type": "code",
   "execution_count": 6,
   "metadata": {},
   "outputs": [
    {
     "data": {
      "text/plain": [
       "id                             0\n",
       "age                            0\n",
       "hypertension                   0\n",
       "heart_disease                  0\n",
       "avg_glucose_level              0\n",
       "bmi                            0\n",
       "stroke                         0\n",
       "gender_Male                    0\n",
       "gender_Other                   0\n",
       "Residence_type_Urban           0\n",
       "ever_married_Yes               0\n",
       "work_type_Never_worked         0\n",
       "work_type_Private              0\n",
       "work_type_Self-employed        0\n",
       "work_type_children             0\n",
       "smoking_status_never smoked    0\n",
       "smoking_status_smokes          0\n",
       "dtype: int64"
      ]
     },
     "execution_count": 6,
     "metadata": {},
     "output_type": "execute_result"
    }
   ],
   "source": [
    "#find count of categories in work_type\n",
    "train.gender.value_counts()\n",
    "\n",
    "#create dummy variables\n",
    "gender_dummies = pd.get_dummies(train.gender, prefix='gender').iloc[:, 1:]\n",
    "\n",
    "# concatenate columns\n",
    "pd.concat([train, gender_dummies], axis=1)\n",
    "train = pd.get_dummies(train, columns=['gender'], drop_first=True)\n",
    "\n",
    "#find count of categories in work_type\n",
    "train.Residence_type.value_counts()\n",
    "\n",
    "#create dummy variables\n",
    "residence_dummies = pd.get_dummies(train.Residence_type, prefix='residence').iloc[:, 1:]\n",
    "\n",
    "# concatenate columns\n",
    "pd.concat([train, residence_dummies], axis=1)\n",
    "train = pd.get_dummies(train, columns=['Residence_type'], drop_first=True)\n",
    "\n",
    "#find count of categories in work_type\n",
    "train.ever_married.value_counts()\n",
    "\n",
    "#create dummy variables\n",
    "married_dummies = pd.get_dummies(train.ever_married, prefix='ever_married').iloc[:, 1:]\n",
    "\n",
    "# concatenate columns\n",
    "pd.concat([train, married_dummies], axis=1)\n",
    "train = pd.get_dummies(train, columns=['ever_married'], drop_first=True)\n",
    "\n",
    "#find count of categories in work_type\n",
    "train.work_type.value_counts()\n",
    "\n",
    "#create dummy variables\n",
    "work_dummies = pd.get_dummies(train.work_type, prefix='work_type').iloc[:, 1:]\n",
    "\n",
    "# concatenate columns\n",
    "pd.concat([train, work_dummies], axis=1)\n",
    "dummy_train = pd.get_dummies(train, columns=['work_type'], drop_first=True)\n",
    "\n",
    "#drop NaN smoking_status rows from dataset\n",
    "dummy_train.dropna(subset=[\"smoking_status\"], inplace=True)\n",
    "\n",
    "#create dummy variables\n",
    "smoking_dummies = pd.get_dummies(dummy_train.smoking_status, prefix='smoking_status').iloc[:, 1:]\n",
    "\n",
    "#concatenate columns\n",
    "pd.concat([dummy_train, smoking_dummies], axis=1)\n",
    "clean_trains = pd.get_dummies(dummy_train, columns=['smoking_status'], drop_first=True)\n",
    "\n",
    "#Replace all NaN values in bmi with the mean\n",
    "mean_value = clean_trains['bmi'].mean()\n",
    "clean_trains['bmi'] = clean_trains['bmi'].fillna(mean_value)\n",
    "\n",
    "clean_trains.isnull().sum()"
   ]
  },
  {
   "cell_type": "code",
   "execution_count": 7,
   "metadata": {},
   "outputs": [],
   "source": [
    "from sklearn.neighbors import KNeighborsClassifier\n",
    "X = clean_trains.drop(\"stroke\",axis=1)\n",
    "y = clean_trains[\"stroke\"]\n",
    "X_train,X_test,y_train,y_test= train_test_split(X,y,test_size=0.25,random_state=101)"
   ]
  },
  {
   "cell_type": "code",
   "execution_count": 8,
   "metadata": {},
   "outputs": [
    {
     "data": {
      "text/plain": [
       "KNeighborsClassifier(algorithm='auto', leaf_size=30, metric='minkowski',\n",
       "                     metric_params=None, n_jobs=None, n_neighbors=1, p=2,\n",
       "                     weights='uniform')"
      ]
     },
     "execution_count": 8,
     "metadata": {},
     "output_type": "execute_result"
    }
   ],
   "source": [
    "knn_model = KNeighborsClassifier(n_neighbors=1)\n",
    "knn_model.fit(X_train,y_train)"
   ]
  },
  {
   "cell_type": "code",
   "execution_count": 9,
   "metadata": {
    "scrolled": true
   },
   "outputs": [
    {
     "name": "stdout",
     "output_type": "stream",
     "text": [
      "              precision    recall  f1-score   support\n",
      "\n",
      "           0       0.98      0.98      0.98      7350\n",
      "           1       0.08      0.06      0.06       177\n",
      "\n",
      "    accuracy                           0.96      7527\n",
      "   macro avg       0.53      0.52      0.52      7527\n",
      "weighted avg       0.96      0.96      0.96      7527\n",
      "\n"
     ]
    }
   ],
   "source": [
    "predictions = knn_model.predict(X_test)\n",
    "print(classification_report(y_test,predictions))"
   ]
  },
  {
   "cell_type": "code",
   "execution_count": 10,
   "metadata": {},
   "outputs": [],
   "source": [
    "from sklearn.metrics import classification_report,confusion_matrix"
   ]
  },
  {
   "cell_type": "code",
   "execution_count": 11,
   "metadata": {},
   "outputs": [
    {
     "name": "stdout",
     "output_type": "stream",
     "text": [
      "[[7227  123]\n",
      " [ 167   10]]\n",
      "\n",
      "\n",
      "              precision    recall  f1-score   support\n",
      "\n",
      "           0       0.98      0.98      0.98      7350\n",
      "           1       0.08      0.06      0.06       177\n",
      "\n",
      "    accuracy                           0.96      7527\n",
      "   macro avg       0.53      0.52      0.52      7527\n",
      "weighted avg       0.96      0.96      0.96      7527\n",
      "\n"
     ]
    }
   ],
   "source": [
    "print(confusion_matrix(y_test,predictions))\n",
    "print('\\n')\n",
    "print(classification_report(y_test,predictions))"
   ]
  },
  {
   "cell_type": "code",
   "execution_count": 12,
   "metadata": {},
   "outputs": [],
   "source": [
    "import seaborn as sns"
   ]
  },
  {
   "cell_type": "code",
   "execution_count": 13,
   "metadata": {},
   "outputs": [
    {
     "data": {
      "image/png": "[encoded data removed]",
      "text/plain": [
       "<Figure size 432x288 with 2 Axes>"
      ]
     },
     "metadata": {},
     "output_type": "display_data"
    }
   ],
   "source": [
    "sns.set(font_scale=2.0)\n",
    "cm = confusion_matrix(y_test,predictions)\n",
    "sns.heatmap(cm,annot=True,fmt='g')\n",
    "plt.show()"
   ]
  },
  {
   "cell_type": "code",
   "execution_count": 14,
   "metadata": {},
   "outputs": [
    {
     "name": "stdout",
     "output_type": "stream",
     "text": [
      "Accuracy : 96.14720340108941\n"
     ]
    }
   ],
   "source": [
    "print(\"Accuracy :\",knn_model.score(X_test,y_test)*100)"
   ]
  },
  {
   "cell_type": "code",
   "execution_count": 15,
   "metadata": {},
   "outputs": [],
   "source": [
    "from sklearn.model_selection import train_test_split\n",
    "from sklearn.metrics import accuracy_score"
   ]
  },
  {
   "cell_type": "code",
   "execution_count": 16,
   "metadata": {},
   "outputs": [
    {
     "name": "stdout",
     "output_type": "stream",
     "text": [
      "0.9599734263411394\n",
      "0.9638809316228671\n"
     ]
    }
   ],
   "source": [
    "X1,X2,y1,y2 = train_test_split(X,y,random_state=0,train_size=0.2)\n",
    "y2_model = knn_model.fit(X1,y1).predict(X2)\n",
    "y1_model = knn_model.fit(X2,y2).predict(X1)\n",
    "\n",
    "print(accuracy_score(y1,y1_model))\n",
    "print(accuracy_score(y2,y2_model))"
   ]
  },
  {
   "cell_type": "code",
   "execution_count": 17,
   "metadata": {},
   "outputs": [],
   "source": [
    "from sklearn.neighbors import KNeighborsClassifier\n",
    "error_rate=[]\n",
    "for i in range(1,20):\n",
    "    \n",
    "    knn_model = KNeighborsClassifier(n_neighbors=i)\n",
    "    knn_model.fit(X_train,y_train)\n",
    "    pred_i = knn_model.predict(X_test)\n",
    "    error_rate.append(np.mean(pred_i != y_test))"
   ]
  },
  {
   "cell_type": "code",
   "execution_count": 18,
   "metadata": {},
   "outputs": [
    {
     "data": {
      "text/plain": [
       "Text(0, 0.5, 'Error Rate')"
      ]
     },
     "execution_count": 18,
     "metadata": {},
     "output_type": "execute_result"
    },
    {
     "data": {
      "image/png": "[encoded data removed]",
      "text/plain": [
       "<Figure size 720x432 with 1 Axes>"
      ]
     },
     "metadata": {},
     "output_type": "display_data"
    }
   ],
   "source": [
    "plt.figure(figsize=(10,6))\n",
    "plt.plot(range(1,20),error_rate,marker='o',markersize=5)\n",
    "plt.title('Error rate vs k value')\n",
    "plt.xlabel('k')\n",
    "plt.ylabel('Error Rate')"
   ]
  },
  {
   "cell_type": "code",
   "execution_count": 27,
   "metadata": {
    "scrolled": true
   },
   "outputs": [
    {
     "name": "stdout",
     "output_type": "stream",
     "text": [
      "Accuracy : 97.63518001859971\n",
      "[[7349    1]\n",
      " [ 177    0]]\n"
     ]
    },
    {
     "data": {
      "image/png": "[encoded data removed]",
      "text/plain": [
       "<Figure size 432x288 with 2 Axes>"
      ]
     },
     "metadata": {},
     "output_type": "display_data"
    }
   ],
   "source": [
    "knn_model = KNeighborsClassifier(n_neighbors=5)\n",
    "knn_model.fit(X_train,y_train)\n",
    "pred = knn_model.predict(X_test)\n",
    "print(\"Accuracy :\",knn_model.score(X_test,y_test)*100)\n",
    "cm = confusion_matrix(y_test,pred)\n",
    "print(cm)\n",
    "sns.set(font_scale=2.0)\n",
    "cm = confusion_matrix(y_test,pred)\n",
    "sns.heatmap(cm,annot=True,fmt='g')\n",
    "plt.show()"
   ]
  },
  {
   "cell_type": "code",
   "execution_count": 29,
   "metadata": {},
   "outputs": [
    {
     "name": "stdout",
     "output_type": "stream",
     "text": [
      "[[7349    1]\n",
      " [ 177    0]]\n",
      "\n",
      "\n",
      "              precision    recall  f1-score   support\n",
      "\n",
      "           0       0.98      1.00      0.99      7350\n",
      "           1       0.00      0.00      0.00       177\n",
      "\n",
      "    accuracy                           0.98      7527\n",
      "   macro avg       0.49      0.50      0.49      7527\n",
      "weighted avg       0.95      0.98      0.96      7527\n",
      "\n"
     ]
    }
   ],
   "source": [
    "print(confusion_matrix(y_test,pred))\n",
    "print('\\n')\n",
    "print(classification_report(y_test,pred))"
   ]
  }
 ],
 "metadata": {
  "kernelspec": {
   "display_name": "Python 3",
   "language": "python",
   "name": "python3"
  },
  "language_info": {
   "codemirror_mode": {
    "name": "ipython",
    "version": 3
   },
   "file_extension": ".py",
   "mimetype": "text/x-python",
   "name": "python",
   "nbconvert_exporter": "python",
   "pygments_lexer": "ipython3",
   "version": "3.7.4"
  }
 },
 "nbformat": 4,
 "nbformat_minor": 4
}
